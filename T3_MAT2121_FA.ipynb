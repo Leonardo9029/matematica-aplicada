{
 "cells": [
  {
   "cell_type": "markdown",
   "metadata": {},
   "source": [
    "# El enigma de la Flor Matakiterani: Desentrañando patrones matemáticos"
   ]
  },
  {
   "cell_type": "markdown",
   "metadata": {},
   "source": [
    "En una misteriosa y enigmática isla, florece una planta única en el mundo: la Flor Matakiterani. Esta flor, venerada por los isleños, es famosa por su belleza excepcional y su patrón único de crecimiento en el número de pétalos. Según las leyendas locales, la Flor Matakiterani posee propiedades mágicas y curativas. Los habitantes de la isla han observado que estas flores pueden producir desde un mínimo de $6$ pétalos y hasta un asombroso máximo de $1001$ pétalos por día. En este taller, exploraremos las propiedades matemáticas de esta flor. \n",
    "\n",
    "1. La Flor Matakiterani sigue una secuencia específica en el número de pétalos que la flor produce cada día. Después de años de observación, los isleños han descubierto que la cantidad de pétalos que la flor produce en el $n$-ésimo día sigue la fórmula: $F_{n} = 5n + 1$, dónde $n$ corresponde al número de días. Calcula cuántos pétalos producirá la Flor Matakiterani en el día $10$.\n",
    "1. ¿Cuántos días deben transcurrir para que la flor alcance su valor máximo de pétalos producidos?\n",
    "1. ¿Existe un día en que la flor Matakiterani produzca $782$ pétalos? Explique.\n",
    "1. Los isleños descubrieron otra flor cuyas propiedades parecen estar ligadas a otro tipo de secuencia. Durante los primeros $7$ días, esta flor crece de manera que el número de pétalos producidos en el $n$-ésimo día se duplica con respecto al día anterior. Si el primer día produce $4$ pétalos, construye la expresión algebraica $G_{n}$ que represente el número de pétalos producidos en el $n$-ésimo día e imprime ordenadamente la cantidad de pétalos producidos durante la primera semana.\n",
    "1. Los isleños han notado que, luego de los primeros $7$ días, la magia de esta segunda flor pierde potencia, haciendo que el crecimiento sea más lento, modelado por la expresión: $$H_n = 5 \\cdot (n - 8)\\text{ para } n>7.$$ Calcula el total de pétalos producidos por esta segunda flor al finalizar un mes de $30$ días, considerando que comienza a florecer el día $1$.\n"
   ]
  },
  {
   "cell_type": "code",
   "execution_count": null,
   "metadata": {},
   "outputs": [
    {
     "name": "stdout",
     "output_type": "stream",
     "text": [
      "En el dia 10 se producen 51 petalos\n"
     ]
    }
   ],
   "source": [
    "# --- Pregunta 1 ---\n",
    "\n",
    "def F(n):\n",
    "    return 5*n+1\n",
    "\n",
    "\n",
    "\n",
    "print(f'En el dia 10 se producen {F(10)} petalos')\n",
    "\n",
    "\n"
   ]
  },
  {
   "cell_type": "markdown",
   "metadata": {},
   "source": [
    "En el dia 10 se producen 51 petalos"
   ]
  },
  {
   "cell_type": "code",
   "execution_count": null,
   "metadata": {},
   "outputs": [
    {
     "name": "stdout",
     "output_type": "stream",
     "text": [
      "La flor alcanza su maximo de petalos (1001 petalos) en el dia 200\n"
     ]
    }
   ],
   "source": [
    "# --- Pregunta 2 ---\n",
    "\n",
    "maxPetalos = 1001\n",
    "\n",
    "\n",
    "# 1001 = 5*n + 1\n",
    "# 1000 / 5 = n\n",
    "diaMax = 1000/5\n",
    "print(f'La flor alcanza su maximo de petalos ({maxPetalos} petalos) en el dia {int(diaMax)}.')\n",
    "\n",
    "\n",
    "# def maxP(maxPetalos=1001):\n",
    "#     return (maxPetalos-1)//5\n",
    "\n",
    "# print(maxP)\n",
    "\n",
    "\n"
   ]
  },
  {
   "cell_type": "markdown",
   "metadata": {},
   "source": [
    "La flor alcanza su maximo de petalos (1001 petalos) en el dia 200"
   ]
  },
  {
   "cell_type": "code",
   "execution_count": 18,
   "metadata": {},
   "outputs": [
    {
     "name": "stdout",
     "output_type": "stream",
     "text": [
      "El 782 no pertenece a la sucesión\n"
     ]
    }
   ],
   "source": [
    "# --- Pregunta 3 ---\n",
    "\n",
    "#Pertenece 782  a la sucecion ??\n",
    "VALOR = 782\n",
    "\n",
    "#Determinar si un determinado valor es término de la sucesión.\n",
    "final=VALOR \n",
    "termino=0\n",
    "n=0\n",
    "dif=final-termino\n",
    "\n",
    "while dif>0:\n",
    "    n +=1\n",
    "    termino=5*n + 1\n",
    "    dif=final-termino\n",
    "\n",
    "if dif==0:\n",
    "    print(f'El {final} es un término de la sucesión y ocupa el lugar {n}')\n",
    "\n",
    "else:\n",
    "    print(f'El {final} no pertenece a la sucesión')\n",
    "\n",
    "\n",
    "\n",
    "\n",
    "\n"
   ]
  },
  {
   "cell_type": "markdown",
   "metadata": {},
   "source": [
    "El 782 no pertenece a la sucesión"
   ]
  },
  {
   "cell_type": "code",
   "execution_count": null,
   "metadata": {},
   "outputs": [
    {
     "name": "stdout",
     "output_type": "stream",
     "text": [
      "En el dia 1 habran: 4 petalos\n",
      "En el dia 2 habran: 8 petalos\n",
      "En el dia 3 habran: 16 petalos\n",
      "En el dia 4 habran: 32 petalos\n",
      "En el dia 5 habran: 64 petalos\n",
      "En el dia 6 habran: 128 petalos\n",
      "En el dia 7 habran: 256 petalos\n"
     ]
    }
   ],
   "source": [
    "# --- Pregunta 4 ---\n",
    "\n",
    "\n",
    "# El primer dia hay 4 petalos \n",
    "#Sabemos que la razon es 2\n",
    "# Tambien sabemos que es una PG\n",
    "\n",
    "\n",
    "#A partir de esto concluimos que:\n",
    "# La expresion del termino general es:  4*2**(n-1)\n",
    "\n",
    "\n",
    "def G(n):\n",
    "    4*2**(n-1)\n",
    "\n",
    "\n",
    "for i in range(1,8):\n",
    "    n=i\n",
    "    print(f'En el dia {n} habran: {4*2**(n-1)} petalos')"
   ]
  },
  {
   "cell_type": "markdown",
   "metadata": {},
   "source": [
    "En el dia 1 habran: 4 petalos\n",
    "En el dia 2 habran: 8 petalos\n",
    "En el dia 3 habran: 16 petalos\n",
    "En el dia 4 habran: 32 petalos\n",
    "En el dia 5 habran: 64 petalos\n",
    "En el dia 6 habran: 128 petalos\n",
    "En el dia 7 habran: 256 petalos"
   ]
  },
  {
   "cell_type": "code",
   "execution_count": null,
   "metadata": {},
   "outputs": [
    {
     "name": "stdout",
     "output_type": "stream",
     "text": [
      "En el dia 30 habra un total de 1773 petalos\n"
     ]
    }
   ],
   "source": [
    "# --- Pregunta 5 ---\n",
    "#Calcular la suma de los primeros 30 terminos.\n",
    "#A partir del 8 dia (termino) la susecion se comporta: como H(n) = 5*(n - 8)   para todo n > 7.\n",
    "\n",
    "def G(n):\n",
    "    4*2**(n-1)\n",
    "\n",
    "suma7Primeros=0\n",
    "for i in range(1,8):\n",
    "    n=i\n",
    "    suma7Primeros = suma7Primeros + 4*2**(n-1)\n",
    "\n",
    "\n",
    "\n",
    "\n",
    "suma8a30primeros=0\n",
    "for i in range(8,31):\n",
    "    n=i\n",
    "    suma8a30primeros = suma8a30primeros + 5*(n - 8)\n",
    "\n",
    "\n",
    "\n",
    "total30= suma7Primeros + suma8a30primeros\n",
    "\n",
    "print(f'En el dia 30 habra un total de {total30} petalos.')\n"
   ]
  },
  {
   "cell_type": "markdown",
   "metadata": {},
   "source": [
    "En el dia 30 habra un total de 1773 petalos"
   ]
  }
 ],
 "metadata": {
  "kernelspec": {
   "display_name": "Python 3",
   "language": "python",
   "name": "python3"
  },
  "language_info": {
   "codemirror_mode": {
    "name": "ipython",
    "version": 3
   },
   "file_extension": ".py",
   "mimetype": "text/x-python",
   "name": "python",
   "nbconvert_exporter": "python",
   "pygments_lexer": "ipython3",
   "version": "3.13.5"
  }
 },
 "nbformat": 4,
 "nbformat_minor": 2
}
