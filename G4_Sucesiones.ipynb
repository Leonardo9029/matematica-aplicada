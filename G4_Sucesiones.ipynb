{
  "cells": [
    {
      "cell_type": "markdown",
      "metadata": {
        "id": "Jsg7AmugfdN3"
      },
      "source": [
        "# Problema 1"
      ]
    },
    {
      "cell_type": "markdown",
      "metadata": {
        "id": "_IzpNklvfgKe"
      },
      "source": [
        "Considere la sucesión $a_{n} = 3n^{2} + 7$. Por medio de un código en *Python* despliega en pantalla:\n",
        "\n",
        "1. Los primeros $5$ términos.\n",
        "2. Los $5$ términos que vienen inmediatamente después del decimoquinto término."
      ]
    },
    {
      "cell_type": "code",
      "execution_count": 7,
      "metadata": {},
      "outputs": [
        {
          "name": "stdout",
          "output_type": "stream",
          "text": [
            "En la posicion 1, esta el valor 10\n",
            "En la posicion 2, esta el valor 19\n",
            "En la posicion 3, esta el valor 34\n",
            "En la posicion 4, esta el valor 55\n",
            "En la posicion 5, esta el valor 82\n",
            "\n",
            "\n",
            "\n",
            "\n",
            "\n",
            "      \n",
            "En la posicion 16, esta el valor 775\n",
            "En la posicion 17, esta el valor 874\n",
            "En la posicion 18, esta el valor 979\n",
            "En la posicion 19, esta el valor 1090\n",
            "En la posicion 20, esta el valor 1207\n"
          ]
        }
      ],
      "source": [
        "#1\n",
        "def a(n):\n",
        "    return 3*n**2 + 7\n",
        "\n",
        "b=[]\n",
        "\n",
        "for i in range(5):\n",
        "    n = i+1\n",
        "    b.append(a(n))\n",
        "    print(f'En la posicion {n}, esta el valor {b[n-1]}')\n",
        "\n",
        "#Espacios\n",
        "print('''\n",
        "\n",
        "\n",
        "\n",
        "\n",
        "      ''')\n",
        "\n",
        "c=[]\n",
        "for i in range(15,20):\n",
        "    n = i+1\n",
        "    c.append(a(n))\n",
        "    print(f'En la posicion {n}, esta el valor {c[n-16]}')\n"
      ]
    },
    {
      "cell_type": "markdown",
      "metadata": {
        "id": "MpHLoYWfk97E"
      },
      "source": [
        "# Problema 2"
      ]
    },
    {
      "cell_type": "markdown",
      "metadata": {
        "id": "TdrPqS7Mk_l0"
      },
      "source": [
        "Considere la sucesión $g_{n} = 5n^{3}$. Implemente un código en *Python* que muestre en pantalla:\n",
        "\n",
        "1. Los primeros $4$ términos de la sucesión.\n",
        "2. Los $4$ términos que vienen inmediatamente después del octavo término.\n",
        "3. Determinar si el término $40.000$ pertenece a la sucesión. Si es así, indicar en qué posición se encuentra."
      ]
    },
    {
      "cell_type": "code",
      "execution_count": 18,
      "metadata": {},
      "outputs": [
        {
          "name": "stdout",
          "output_type": "stream",
          "text": [
            "La posicion 1, tiene el valor 5\n",
            "La posicion 2, tiene el valor 40\n",
            "La posicion 3, tiene el valor 135\n",
            "La posicion 4, tiene el valor 320\n",
            "\n",
            "\n",
            "\n",
            "\n",
            " \n",
            "valor de la posicion 9 es: 3645\n",
            "valor de la posicion 10 es: 5000\n",
            "valor de la posicion 11 es: 6655\n",
            "valor de la posicion 12 es: 8640\n"
          ]
        }
      ],
      "source": [
        "#2\n",
        "\n",
        "def g(n):\n",
        "    return 5*n**3\n",
        "\n",
        "#2.1\n",
        "a=[]\n",
        "for i in range(4):\n",
        "    n=i+1\n",
        "    print(f'La posicion {n}, tiene el valor {g(n)}')\n",
        "\n",
        "print('''\n",
        "     \n",
        "\n",
        "\n",
        " ''')\n",
        "\n",
        "#2.2\n",
        "p2=[]\n",
        "b=[]\n",
        "for i in range(8,12):\n",
        "    n=i+1\n",
        "    b.append(g(n))\n",
        "    print(f'valor de la posicion {n} es: {g(n)}')\n",
        "\n",
        "\n"
      ]
    },
    {
      "cell_type": "markdown",
      "metadata": {
        "id": "7GDU-KDLuR7i"
      },
      "source": [
        "# Problema 3"
      ]
    },
    {
      "cell_type": "markdown",
      "metadata": {
        "id": "GG1duXd1uU6Z"
      },
      "source": [
        "La sucesión de Fibonacci es una serie de números en la que cada número, desde el tercero en adelante, es la suma de los dos anteriores. Comienza con el $0$ y $1$, tal como se observa a continuación:\n",
        "\n",
        "$$0, 1, 1, 2, 3, 5, 8, 13, ...$$\n",
        "\n",
        "Formalmente, la sucesión se define de la siguiente manera:\n",
        "\n",
        "\\begin{split}\n",
        "F(0) &= 0\\\\\n",
        "F(1) &= 1\\\\\n",
        "F(n) &= F(n - 1) + F(n - 2), \\ \\text{ para $n \\geq 2$}\n",
        "\\end{split}\n",
        "\n",
        "Esta sucesión se utiliza en una variedad de contextos en informática y algoritmos debido a sus propiedades matemáticas y patrones.\n",
        "\n",
        "1. Implementa un código en *Python* que muestre en pantalla los primeros $20$ términos de la sucesión.\n",
        "2. Calcula, utilizando un ciclo *for*, la suma de los primeros $30$ términos de la sucesión de Fibonacci."
      ]
    },
    {
      "cell_type": "code",
      "execution_count": 1,
      "metadata": {},
      "outputs": [
        {
          "name": "stdout",
          "output_type": "stream",
          "text": [
            "El la posicion es: 0 y el valor es: 0\n",
            "El la posicion es: 1 y el valor es: 1\n",
            "El la posicion es: 2 y el valor es: 1\n",
            "El la posicion es: 3 y el valor es: 2\n",
            "El la posicion es: 4 y el valor es: 3\n",
            "El la posicion es: 5 y el valor es: 5\n",
            "El la posicion es: 6 y el valor es: 8\n",
            "El la posicion es: 7 y el valor es: 13\n",
            "El la posicion es: 8 y el valor es: 21\n",
            "El la posicion es: 9 y el valor es: 34\n",
            "El la posicion es: 10 y el valor es: 55\n",
            "El la posicion es: 11 y el valor es: 89\n",
            "El la posicion es: 12 y el valor es: 144\n",
            "El la posicion es: 13 y el valor es: 233\n",
            "El la posicion es: 14 y el valor es: 377\n",
            "El la posicion es: 15 y el valor es: 610\n",
            "El la posicion es: 16 y el valor es: 987\n",
            "El la posicion es: 17 y el valor es: 1597\n",
            "El la posicion es: 18 y el valor es: 2584\n",
            "El la posicion es: 19 y el valor es: 4181\n",
            "      \n",
            "12480600.0\n",
            "12480600.0\n"
          ]
        }
      ],
      "source": [
        "#1 Calcular los primeros terminos de la sucecion.\n",
        "def S(n):\n",
        "    if n == 0:\n",
        "        return 0\n",
        "    elif n == 1:\n",
        "        return 1\n",
        "    else:\n",
        "        return S(n-1)+S(n-2)\n",
        "\n",
        "for i in range(20):\n",
        "    n=+i\n",
        "    print(f'El la posicion es: {n} y el valor es: {S(n)}')\n",
        "print(\"      \")\n",
        "\n",
        "\n",
        "\n",
        "#2 Calcular la suma de los primeros 30 terminos.\n",
        "\n",
        "def SUMA(n):\n",
        "    return n*(S(n))/2\n",
        "\n",
        "#Dos formas de calcular la suma.\n",
        "\n",
        "#Ingresando los valores \n",
        "print(30*S(30)/2)\n",
        "#Usando la definicion de la suma\n",
        "print(SUMA(30))\n",
        "\n"
      ]
    },
    {
      "cell_type": "markdown",
      "metadata": {
        "id": "OFL3b7nt8Rq_"
      },
      "source": [
        "# Problema 4"
      ]
    },
    {
      "cell_type": "markdown",
      "metadata": {
        "id": "j5QlZQwJSDsZ"
      },
      "source": [
        "Implementa un código que permita guardar en una lista la sucesión de los primeros $n$ números pares, con $n \\geq 1$. Luego, determina:\n",
        "\n",
        "1. ¿Cuál es el valor del décimo término?\n",
        "2. Calcula, utilizando un ciclo *for*, la suma de los primeros $100$ números pares.\n",
        "3. ¿En qué posición se encuentra el número $58$ dentro de la sucesión?"
      ]
    },
    {
      "cell_type": "code",
      "execution_count": null,
      "metadata": {},
      "outputs": [
        {
          "name": "stdout",
          "output_type": "stream",
          "text": [
            "Pregunta 1\n",
            "El decimo termino es: 20\n",
            "    \n",
            "El total de la suma hasta el termino 100 es 10100\n",
            "El valor 58 se encuentra en el termino o posicion 29\n"
          ]
        }
      ],
      "source": [
        "#1 Cual es el decimo termino?\n",
        "def pares(n):\n",
        "    if n<1:\n",
        "        return \"Debe ser un numero natural (Mayor o igual a 1)\"\n",
        "    else:\n",
        "        return 2*n\n",
        "    \n",
        "n=10\n",
        "print(\"Pregunta 1\")\n",
        "print(f'El decimo termino es: {2*n}')\n",
        "print(\"    \")\n",
        "#2 Suma de los primeros 100 terminos.\n",
        "lista_pares=[]\n",
        "total=0\n",
        "for i in range(100):\n",
        "    n=i+1\n",
        "    lista_pares.append(pares(n))\n",
        "    total+=pares(n)\n",
        "\n",
        "\n",
        "    # print(f'El termino {n} tiene el valor {pares(n)}')\n",
        "# Con la linea de arriba podemos comprobar que el listado ha guardado exitosamente los valores (numeros pares)\n",
        "\n",
        "\n",
        "print(f'El total de la suma hasta el termino 100 es {total}')\n",
        "\n",
        "\n",
        "# Despejamos x\n",
        "# si 2*n = 58 ===> n = 58/2\n",
        "print(f'El valor 58 se encuentra en el termino o posicion {int(58/2)}')"
      ]
    },
    {
      "cell_type": "markdown",
      "metadata": {
        "id": "gBcDYpK2Z3GT"
      },
      "source": [
        "# Problema 5"
      ]
    },
    {
      "cell_type": "markdown",
      "metadata": {
        "id": "eS3i68R4Z6YQ"
      },
      "source": [
        "Un nuevo software tiene $500$ usuarios y se espera que el número de usuarios crezca un $15\\%$ respecto al mes anterior. Considere que $b_{n}$ es el número de usuarios transcurridos $n$ meses.\n",
        "\n",
        "1. Calcula cuántos usuarios tendrá el software al cabo de tres meses. ¿Y al cabo de seis meses?\n",
        "2. Mediante un código en *Pyhton* muestra la cantidad de usuarios que tendrá el software cada mes durante el primer año.\n",
        "2. ¿Cuántos usuarios tendrá en total el software luego de un año? Utilice ciclos *for* para calcular."
      ]
    },
    {
      "cell_type": "code",
      "execution_count": 10,
      "metadata": {},
      "outputs": [
        {
          "name": "stdout",
          "output_type": "stream",
          "text": [
            "661\n",
            "---\n",
            "1005\n",
            "En el mes Enero tendremos 500 usuarios\n",
            "En el mes Febrero tendremos 575 usuarios\n",
            "En el mes Marzo tendremos 661 usuarios\n",
            "En el mes Abril tendremos 760 usuarios\n",
            "En el mes Mayo tendremos 874 usuarios\n",
            "En el mes Junio tendremos 1005 usuarios\n",
            "En el mes Julio tendremos 1156 usuarios\n",
            "En el mes Agosto tendremos 1330 usuarios\n",
            "En el mes Septiembre tendremos 1529 usuarios\n",
            "En el mes Octubre tendremos 1758 usuarios\n",
            "En el mes Noviembre tendremos 2022 usuarios\n",
            "En el mes Diciembre tendremos 2326 usuarios\n",
            " \n",
            "\n",
            "\n",
            "      \n",
            "Al cabo de un año el software tendra 2326 usuarios\n"
          ]
        }
      ],
      "source": [
        "# --- Pregunta 5 ---\n",
        "\n",
        "#  a_1 * r ** (n-1)\n",
        "\n",
        "#definimos la sucecion geometrica\n",
        "def b(n):\n",
        "    return 500*(1.15**(n-1))\n",
        "\n",
        "#1\n",
        "#Al cabo de 3 meses\n",
        "print(int(b(3)))\n",
        "print(\"---\")\n",
        "#Al cabo de 6 meses\n",
        "print(int(b(6)))\n",
        "\n",
        "\n",
        "#2\n",
        "# Creamos una tupla. El primer elemento es un 'placeholder' para que enero sea el índice 1.\n",
        "meses = (\n",
        "    \"Placeholder\", \"Enero\", \"Febrero\", \"Marzo\", \"Abril\", \"Mayo\", \"Junio\",\n",
        "    \"Julio\", \"Agosto\", \"Septiembre\", \"Octubre\", \"Noviembre\", \"Diciembre\"\n",
        ")\n",
        "\n",
        "for n in range(1,13):\n",
        "    print(f\"En el mes {meses[n]} tendremos {int(b(n))} usuarios\")\n",
        "\n",
        "\n",
        "\n",
        "print(''' \n",
        "      \n",
        "      \n",
        "      ''')\n",
        "\n",
        "\n",
        "#3    \n",
        "print(f\"Al cabo de un año el software tendra {int(b(12))} usuarios\")"
      ]
    },
    {
      "cell_type": "markdown",
      "metadata": {
        "id": "s2hruXWnJDbS"
      },
      "source": [
        "# Problema 6"
      ]
    },
    {
      "cell_type": "markdown",
      "metadata": {
        "id": "hH_VNmA_Og0U"
      },
      "source": [
        "Un estudiante de ingeniería informática planea ahorrar para un proyecto personal. Para esto, el primer mes deposita en una cuenta $\\$12.000$, el segundo mes deposita $\\$14.000$ y así sucesivamente, de modo que cada mes aumenta el depósito en $\\$2.000$. Considere que $a_{i}$ corresponde al depósito del estudiante en el mes $i$.\n",
        "\n",
        "1. Implementa un código que permita mostrar en pantalla lo que depositó mensualmente durante el primer año.\n",
        "2. ¿Cuánto depositó el estudiante en febrero del segundo año?\n",
        "3. ¿Cuál será el total ahorrado al finalizar dos años?"
      ]
    },
    {
      "cell_type": "code",
      "execution_count": null,
      "metadata": {},
      "outputs": [
        {
          "name": "stdout",
          "output_type": "stream",
          "text": [
            "--- Pregunta 1 --- \n",
            "En el mes Enero el estudiante hizo un deposito de $12000\n",
            "En el mes Febrero el estudiante hizo un deposito de $14000\n",
            "En el mes Marzo el estudiante hizo un deposito de $16000\n",
            "En el mes Abril el estudiante hizo un deposito de $18000\n",
            "En el mes Mayo el estudiante hizo un deposito de $20000\n",
            "En el mes Junio el estudiante hizo un deposito de $22000\n",
            "En el mes Julio el estudiante hizo un deposito de $24000\n",
            "En el mes Agosto el estudiante hizo un deposito de $26000\n",
            "En el mes Septiembre el estudiante hizo un deposito de $28000\n",
            "En el mes Octubre el estudiante hizo un deposito de $30000\n",
            "En el mes Noviembre el estudiante hizo un deposito de $32000\n",
            "En el mes Diciembre el estudiante hizo un deposito de $34000\n",
            "\n",
            "\n",
            "      \n",
            "--- pregunta 2 ---\n",
            "En el mes de febrero del siguiente año el estudiante hizo un deposito de $38000\n",
            "\n",
            "\n",
            "      \n",
            "--- pregunta 3 --- \n",
            "Al cabo de dos años el estudiante ahorro  $840000\n"
          ]
        }
      ],
      "source": [
        "# --- pregunta 6 ---\n",
        "\n",
        "\n",
        "def a(i):\n",
        "    return 12000 + 2000*(i-1)\n",
        "\n",
        "# Creamos una tupla. El primer elemento es un 'placeholder' para que enero sea el índice 1.\n",
        "meses = (\n",
        "    \"posicion_0\", \"Enero\", \"Febrero\", \"Marzo\", \"Abril\", \"Mayo\", \"Junio\",\n",
        "    \"Julio\", \"Agosto\", \"Septiembre\", \"Octubre\", \"Noviembre\", \"Diciembre\"\n",
        ")\n",
        "print(\"--- Pregunta 1 --- \")\n",
        "for i in range(1,13):\n",
        "    print(f'En el mes {meses[i]} el estudiante hizo un deposito de ${a(i)}')\n",
        "\n",
        "\n",
        "print('''\n",
        "      \n",
        "      ''')\n",
        "print(\"--- pregunta 2 ---\")\n",
        "#febrero del siguiente año contaria como el mes 14 por lo tanto se evalua a(14)\n",
        "print(f'En el mes de febrero del siguiente año el estudiante hizo un deposito de ${a(14)}')\n",
        "print('''\n",
        "      \n",
        "      ''')\n",
        "print(\"--- pregunta 3 --- \")\n",
        "# s=n*(a_1 + a_n) / 2\n",
        "def s(n):\n",
        "    return n*(12000+a(n))/2\n",
        "\n",
        "print(f'Al cabo de dos años el estudiante ahorro  ${int(s(24))}')\n",
        "\n",
        "\n"
      ]
    },
    {
      "cell_type": "markdown",
      "metadata": {
        "id": "G9sEfl4rB3e8"
      },
      "source": [
        "# Problema 7"
      ]
    },
    {
      "cell_type": "markdown",
      "metadata": {
        "id": "KZUNnG20CT4F"
      },
      "source": [
        "Por lo general, los proyectos son organizados en varias etapas que deben completarse secuencialmente.\n",
        "\n",
        "La fase inicial de un proyecto de software tiene una duración de $3$ meses y cada fase subsecuente reduce su duración en un $10 \\%$ debido a la experiencia ganada. Determine:\n",
        "\n",
        "1. ¿Cuánto dura la quinta fase?\n",
        "2. Calcula la duración total del proyecto después de $10$ fases."
      ]
    },
    {
      "cell_type": "code",
      "execution_count": 16,
      "metadata": {},
      "outputs": [
        {
          "name": "stdout",
          "output_type": "stream",
          "text": [
            "El quinto termino que corresponde a la duracion de la quinta fase es 1.97 meses\n"
          ]
        }
      ],
      "source": [
        "# --- problema 7 ---\n",
        "\n",
        "#1 quinto termino\n",
        "def X(n):\n",
        "    return 3*0.9**(n-1)\n",
        "\n",
        "\n",
        "print(f'El quinto termino que corresponde a la duracion de la quinta fase es {X(5):.2f} meses')\n",
        "\n",
        "\n",
        "#Suma hasta decimo termino\n",
        "# definicion suma: n*(a_1+a_n)/2\n",
        "\n",
        "\n",
        "\n"
      ]
    },
    {
      "cell_type": "markdown",
      "metadata": {
        "id": "keVOy_xIlU1E"
      },
      "source": [
        "# Problema 8"
      ]
    },
    {
      "cell_type": "markdown",
      "metadata": {
        "id": "QXrNG-zulXil"
      },
      "source": [
        "En una sucesión aritmética, la diferencia entre un término y el anterior es $4$ y el décimo término es $-20$. Determine:\n",
        "\n",
        "1. El primer término de la sucesión.\n",
        "2. La expresión del término de lugar $n$.\n",
        "3. Utilice un código en *Python* para calcular el término que ocupa el lugar $100$.\n",
        "4. Determinar la posición del número $1.680$ en la secuencia. Calcule utilizando un ciclo *while*."
      ]
    },
    {
      "cell_type": "code",
      "execution_count": null,
      "metadata": {},
      "outputs": [
        {
          "name": "stdout",
          "output_type": "stream",
          "text": [
            " datos:\n",
            "    La diferencia es 4, pues es lo mismo S(n) y S(n-1) = 4 y S(n+1) - S(n)\n",
            "    el decimo termino es -20\n",
            "  \n",
            "Definimos su formula general y luego despejamos su primer termino\n",
            " S(n)= a1+(n-1)d\n",
            "El primer termino de la sucecion es -56\n",
            " \n",
            "Pregunta 2\n",
            "La formula general de la sucesion es: \n",
            "s1+(n-1)*4 \n",
            " \n",
            "Pregunta 3\n",
            "Calcular el termino 100 de la sucecion\n",
            "El termino 100 de la sucecion es 340\n"
          ]
        }
      ],
      "source": [
        "#Problema 8\n",
        "#Informacion\n",
        "print(f''' datos:\n",
        "    La diferencia es 4, pues es lo mismo S(n) y S(n-1) = 4 y S(n+1) - S(n)\n",
        "    el decimo termino es -20''')\n",
        "\n",
        "\n",
        "#Pregunta 1\n",
        "print('''  ''')\n",
        "print(\"Definimos su formula general y luego despejamos su primer termino\")\n",
        "print(f' S(n)= a1+(n-1)d')\n",
        "#para ello definimos el primer termino la cual fue despejada de la forma general\n",
        "s1= (-20-(10-1)*4)\n",
        "print(f'El primer termino de la sucecion es {s1}')\n",
        "print(\" \")\n",
        "\n",
        "\n",
        "#Pregunta 2\n",
        "def S(n):\n",
        "    return s1+(n-1)*4 \n",
        "\n",
        "print(\"Pregunta 2\")\n",
        "print(\"La formula general de la sucesion es: \")\n",
        "print(\"s1+(n-1)*4 \")\n",
        "print(\" \")\n",
        "#Pregunta 3\n",
        "print(\"Pregunta 3\")\n",
        "print(\"Calcular el termino 100 de la sucecion\")\n",
        "print(f'El termino 100 de la sucecion es {S(100)}')\n",
        "print(\"\")\n",
        "\n",
        "#Pregunta 4\n",
        "print(\"Pregunta 4\")\n",
        "print(\"Determinar la posicion del valor 1680 en la sucecion usando ciclo while\")\n",
        "\n",
        "\n",
        "while S(x) != 1680:\n",
        "    pass\n",
        "\n",
        "\n",
        "\n"
      ]
    },
    {
      "cell_type": "markdown",
      "metadata": {
        "id": "gFYqGSbdqoqT"
      },
      "source": [
        "# Problema 9"
      ]
    },
    {
      "cell_type": "markdown",
      "metadata": {
        "id": "UtblbNCYqxOM"
      },
      "source": [
        "El tercer término de una sucesión geométrica es $5$ y el sexto término es $40$. Determine:\n",
        "\n",
        "1. La razón geométrica de la sucesión.\n",
        "2. El primer término de la sucesión.\n",
        "3. La expresión del término de lugar $n$.\n",
        "4. Utilice un código en *Python* para calcular el término que ocupa el lugar $8$.\n",
        "4. ¿Qué lugar ocupa en esta sucesión el término $20.480$? Calcule utilizando un ciclo *while*."
      ]
    },
    {
      "cell_type": "code",
      "execution_count": null,
      "metadata": {},
      "outputs": [
        {
          "name": "stdout",
          "output_type": "stream",
          "text": [
            "La razon es 2\n",
            "El primer termino de la sucecion es 1.25\n",
            "El termino n de la sucecion es: g(n) = a1 * 2**(n-1) \n",
            "El termino 8 es: 160\n"
          ]
        }
      ],
      "source": [
        "# --- Problema 9 ---\n",
        "\n",
        "#Pregunta 1\n",
        "# Datos: Es una PG y tiene como terminos 3 y 6 => 5 y 40 respectivamente\n",
        "# g(3)=5\n",
        "# g(6)= 40\n",
        "\n",
        "# 5*r**(6-3)=40\n",
        "# esto nos daria que la razon es 2\n",
        "print(\"La razon es 2\")\n",
        "\n",
        "#Pregunta 2\n",
        "# g(3)=5\n",
        "# a1*2(3-1)=5\n",
        "# a1*2**(2)=5\n",
        "# a1*4=5\n",
        "\n",
        "a1=5/4\n",
        "print(f'El primer termino de la sucecion es {a1}')\n",
        "\n",
        "\n",
        "\n",
        "#Pregunta 3\n",
        "print(\"El termino n de la sucecion es: g(n) = a1 * 2**(n-1) \")\n",
        "\n",
        "\n",
        "#Pregunta 4\n",
        "def g(n):\n",
        "    return a1 * 2**(n-1)\n",
        "\n",
        "print(f'El termino 8 es: {g(8):.0f}')\n",
        "\n",
        "\n",
        "\n",
        "\n",
        "#Pregunta 5\n",
        "#Calcular el termino 20480 usando while\n",
        "\n",
        "\n",
        "\n",
        "\n",
        "\n",
        "\n"
      ]
    },
    {
      "cell_type": "markdown",
      "metadata": {
        "id": "Ju4J8uWfxQKk"
      },
      "source": [
        "# Problema 10"
      ]
    },
    {
      "cell_type": "markdown",
      "metadata": {
        "id": "F6FPVCXQxTMj"
      },
      "source": [
        "Una empresa de tecnología está optimizando sus servidores. Para ello mide las transacciones por segundo (TPS) de sus servidores en cada mes. Se ha obtenido que en el segundo mes, el rendimiento del servidor fue $1,2$ miles de TPS y en el quinto mes, el rendimiento fue $2,7$ miles de TPS. Si el número de TPS que hay mes a mes sigue una sucesión geométrica, determina utilizando un código en *Python*:\n",
        "\n",
        "1. ¿Cuál es el rendimiento el noveno mes?\n",
        "2. ¿En qué mes el rendimiento es de $23,4$ miles de TPS?\n",
        "\n",
        "Utilice dos decimales para el cálculo."
      ]
    },
    {
      "cell_type": "code",
      "execution_count": null,
      "metadata": {},
      "outputs": [
        {
          "name": "stdout",
          "output_type": "stream",
          "text": [
            "La razon es 1.3104\n"
          ]
        }
      ],
      "source": [
        "\n",
        "# --- Problema 10 ---\n",
        "\n",
        "#Datos:\n",
        "# M(2)= 1.2     y M(5)= 2.7 \n",
        "\n",
        "\n",
        "\n",
        "#Pregunta 1\n",
        "#Determinar la razon ===> 1.2*r**(5-2) = 2.7\n",
        "#  1.2*r**(3) = 2.7\n",
        "# despejando tenemos que r = (2.7/1.2)**(1/3)\n",
        "\n",
        "\n",
        "r = (2.7/1.2)**(1/3)\n",
        "\n",
        "print(f'La razon es {r:.4f}')\n",
        "\n",
        "#Pregunta 2\n",
        "\n",
        "#Debemos encontrar el primer termino, luego sacar la formula general para luego calcular el termino con el valor 23.4\n",
        "\n",
        "#Calcular el termino 1:\n",
        "#  a1*r**(2-1) = 1.2\n",
        "a1= 1.2/r\n",
        "print(f'El termino 1 es {a1}')\n",
        "\n",
        "\n",
        "#Definimos la funcion \n",
        "\n",
        "def R(n):\n",
        "    return a1*r**(n-1)\n",
        "\n",
        "\n",
        "\n",
        "\n",
        "\n",
        "\n",
        "\n",
        "\n",
        "\n",
        "\n",
        "\n",
        "\n",
        "\n",
        "\n",
        "\n",
        "\n"
      ]
    },
    {
      "cell_type": "markdown",
      "metadata": {
        "id": "jxQyaJXUCW7m"
      },
      "source": [
        "# Problema 11"
      ]
    },
    {
      "cell_type": "markdown",
      "metadata": {
        "id": "8LdxsBUwDfbf"
      },
      "source": [
        "Una aplicación de redes sociales se estrenó el $1$ de enero con una cierta cantidad de usuarios. A partir de ahí, el número de usuarios nuevos de cada día fue siempre el mismo. El $3$ de enero tenía $500$ usuarios en total y el $10$ de enero tenía $1.501$ usuarios totales.Determine:\n",
        "\n",
        "1. ¿Con cuántos usuarios comenzó a funcionar la aplicación?\n",
        "2. ¿Cuántos usuarios tendrá la aplicación el $31$ de enero?\n",
        "3. Si la aplicación tiene $5.505$ usuarios, ¿cuántos meses lleva funcionando?\n",
        "\n"
      ]
    },
    {
      "cell_type": "code",
      "execution_count": null,
      "metadata": {},
      "outputs": [
        {
          "name": "stdout",
          "output_type": "stream",
          "text": [
            "El dia 1 de enero la aplicacion comenzo con 214.0 usuarios\n"
          ]
        },
        {
          "ename": "RecursionError",
          "evalue": "maximum recursion depth exceeded",
          "output_type": "error",
          "traceback": [
            "\u001b[31m---------------------------------------------------------------------------\u001b[39m",
            "\u001b[31mRecursionError\u001b[39m                            Traceback (most recent call last)",
            "\u001b[36mCell\u001b[39m\u001b[36m \u001b[39m\u001b[32mIn[31]\u001b[39m\u001b[32m, line 32\u001b[39m\n\u001b[32m     29\u001b[39m         total_usuarios+= d\n\u001b[32m     31\u001b[39m     \u001b[38;5;28mprint\u001b[39m(\u001b[33mf\u001b[39m\u001b[33m'\u001b[39m\u001b[33mEn el dia \u001b[39m\u001b[38;5;132;01m{\u001b[39;00mn\u001b[38;5;132;01m}\u001b[39;00m\u001b[33m hay \u001b[39m\u001b[38;5;132;01m{\u001b[39;00mSuma(n)\u001b[38;5;132;01m}\u001b[39;00m\u001b[33m usuarios\u001b[39m\u001b[33m'\u001b[39m)\n\u001b[32m---> \u001b[39m\u001b[32m32\u001b[39m \u001b[43mSuma\u001b[49m\u001b[43m(\u001b[49m\u001b[32;43m31\u001b[39;49m\u001b[43m)\u001b[49m\n\u001b[32m     34\u001b[39m \u001b[38;5;28mprint\u001b[39m(\u001b[33mf\u001b[39m\u001b[33m'\u001b[39m\u001b[33mEl dia 31 de enero la aplicacion tendra  usuarios\u001b[39m\u001b[33m'\u001b[39m)\n\u001b[32m     36\u001b[39m \u001b[38;5;66;03m#Pre\u001b[39;00m\n",
            "\u001b[36mCell\u001b[39m\u001b[36m \u001b[39m\u001b[32mIn[31]\u001b[39m\u001b[32m, line 31\u001b[39m, in \u001b[36mSuma\u001b[39m\u001b[34m(n)\u001b[39m\n\u001b[32m     28\u001b[39m \u001b[38;5;28;01mfor\u001b[39;00m n \u001b[38;5;129;01min\u001b[39;00m \u001b[38;5;28mrange\u001b[39m(n):\n\u001b[32m     29\u001b[39m     total_usuarios+= d\n\u001b[32m---> \u001b[39m\u001b[32m31\u001b[39m \u001b[38;5;28mprint\u001b[39m(\u001b[33mf\u001b[39m\u001b[33m'\u001b[39m\u001b[33mEn el dia \u001b[39m\u001b[38;5;132;01m{\u001b[39;00mn\u001b[38;5;132;01m}\u001b[39;00m\u001b[33m hay \u001b[39m\u001b[38;5;132;01m{\u001b[39;00m\u001b[43mSuma\u001b[49m\u001b[43m(\u001b[49m\u001b[43mn\u001b[49m\u001b[43m)\u001b[49m\u001b[38;5;132;01m}\u001b[39;00m\u001b[33m usuarios\u001b[39m\u001b[33m'\u001b[39m)\n",
            "\u001b[36mCell\u001b[39m\u001b[36m \u001b[39m\u001b[32mIn[31]\u001b[39m\u001b[32m, line 31\u001b[39m, in \u001b[36mSuma\u001b[39m\u001b[34m(n)\u001b[39m\n\u001b[32m     28\u001b[39m \u001b[38;5;28;01mfor\u001b[39;00m n \u001b[38;5;129;01min\u001b[39;00m \u001b[38;5;28mrange\u001b[39m(n):\n\u001b[32m     29\u001b[39m     total_usuarios+= d\n\u001b[32m---> \u001b[39m\u001b[32m31\u001b[39m \u001b[38;5;28mprint\u001b[39m(\u001b[33mf\u001b[39m\u001b[33m'\u001b[39m\u001b[33mEn el dia \u001b[39m\u001b[38;5;132;01m{\u001b[39;00mn\u001b[38;5;132;01m}\u001b[39;00m\u001b[33m hay \u001b[39m\u001b[38;5;132;01m{\u001b[39;00m\u001b[43mSuma\u001b[49m\u001b[43m(\u001b[49m\u001b[43mn\u001b[49m\u001b[43m)\u001b[49m\u001b[38;5;132;01m}\u001b[39;00m\u001b[33m usuarios\u001b[39m\u001b[33m'\u001b[39m)\n",
            "    \u001b[31m[... skipping similar frames: Suma at line 31 (2974 times)]\u001b[39m\n",
            "\u001b[36mCell\u001b[39m\u001b[36m \u001b[39m\u001b[32mIn[31]\u001b[39m\u001b[32m, line 31\u001b[39m, in \u001b[36mSuma\u001b[39m\u001b[34m(n)\u001b[39m\n\u001b[32m     28\u001b[39m \u001b[38;5;28;01mfor\u001b[39;00m n \u001b[38;5;129;01min\u001b[39;00m \u001b[38;5;28mrange\u001b[39m(n):\n\u001b[32m     29\u001b[39m     total_usuarios+= d\n\u001b[32m---> \u001b[39m\u001b[32m31\u001b[39m \u001b[38;5;28mprint\u001b[39m(\u001b[33mf\u001b[39m\u001b[33m'\u001b[39m\u001b[33mEn el dia \u001b[39m\u001b[38;5;132;01m{\u001b[39;00mn\u001b[38;5;132;01m}\u001b[39;00m\u001b[33m hay \u001b[39m\u001b[38;5;132;01m{\u001b[39;00m\u001b[43mSuma\u001b[49m\u001b[43m(\u001b[49m\u001b[43mn\u001b[49m\u001b[43m)\u001b[49m\u001b[38;5;132;01m}\u001b[39;00m\u001b[33m usuarios\u001b[39m\u001b[33m'\u001b[39m)\n",
            "\u001b[31mRecursionError\u001b[39m: maximum recursion depth exceeded"
          ]
        }
      ],
      "source": [
        "#Problema 11\n",
        "\n",
        "#Datos: Es una pa.   Dia 3: 500     Dia 10: 1501\n",
        "\n",
        "#Calculo de la distancia:\n",
        "\n",
        "# 500 + 7 * d = 1501\n",
        "\n",
        "d= 1001/7\n",
        "\n",
        "\n",
        "#Calculo de a1\n",
        "\n",
        "# a3= 500\n",
        "# 500 = a1 + (3-1)*d\n",
        "\n",
        "a1 = 500 - 2*d\n",
        "\n",
        "\n",
        "#Pregunta 1\n",
        "print(f'El dia 1 de enero la aplicacion comenzo con {a1} usuarios')\n",
        "\n",
        "#Pregunta 2\n",
        "#Definicion suma -> n(a1+an)/2\n",
        "\n",
        "\n",
        "total_usuarios = 500\n",
        "\n",
        "def Suma(n):\n",
        "    for n in range(n):\n",
        "        total_usuarios+= d\n",
        "    \n",
        "    print(f'En el dia {n} hay {Suma(n)} usuarios')\n",
        "Suma(31)\n",
        "\n",
        "print(f'El dia 31 de enero la aplicacion tendra  usuarios')\n",
        "\n",
        "#Pre\n",
        "\n",
        "\n"
      ]
    },
    {
      "cell_type": "markdown",
      "metadata": {
        "id": "zBN3BhYVLLSe"
      },
      "source": [
        "# Problema 12"
      ]
    },
    {
      "cell_type": "markdown",
      "metadata": {
        "id": "kszkhh_GLQN1"
      },
      "source": [
        "Una empresa de publicidad ofrece para un puesto de trabajo un salario inicial y un aumento mensual en una razón constante. Javier se presenta a la entrevista, y el encargado del departamento de recursos humanos le explica que en el segundo mes de trabajo su sueldo será de $\\$402.000$, y que en el tercer mes de trabajo será de $\\$404.010$. Determine:\n",
        "\n",
        "1. El salario aproximado que Javier recibiría en el décimo mes de trabajo en la empresa.\n",
        "2. ¿Cuál sería el ingreso total recibido por los sueldos de Javier durante el tercer año de trabajo?"
      ]
    },
    {
      "cell_type": "code",
      "execution_count": null,
      "metadata": {},
      "outputs": [
        {
          "name": "stdout",
          "output_type": "stream",
          "text": [
            "En el decimo mes tendra un sueldo de $418364\n",
            "\n",
            "--- Salarios del tercer año (meses 25 a 36) ---\n",
            "Durante el mes 25, recibió como sueldo $450,863.91\n",
            "Durante el mes 26, recibió como sueldo $453,118.23\n",
            "Durante el mes 27, recibió como sueldo $455,383.82\n",
            "Durante el mes 28, recibió como sueldo $457,660.74\n",
            "Durante el mes 29, recibió como sueldo $459,949.04\n",
            "Durante el mes 30, recibió como sueldo $462,248.79\n",
            "Durante el mes 31, recibió como sueldo $464,560.03\n",
            "Durante el mes 32, recibió como sueldo $466,882.83\n",
            "Durante el mes 33, recibió como sueldo $469,217.25\n",
            "Durante el mes 34, recibió como sueldo $471,563.33\n",
            "Durante el mes 35, recibió como sueldo $473,921.15\n",
            "Durante el mes 36, recibió como sueldo $476,290.76\n",
            "\n",
            "---------------------------------------------------------\n",
            "El ingreso total recibido durante el tercer año es de: $5,561,660\n"
          ]
        }
      ],
      "source": [
        "#Problema 12\n",
        "\n",
        "#Datos  Mes 1:                Mes 2: $402000          Mes 3: $404010          Tambien nos dicen que es una PG\n",
        "\n",
        "Mes2 = 402000\n",
        "Mes3 = 404010\n",
        "#Pregunta 1\n",
        "\n",
        "#Calculo de la razon\n",
        "r = Mes3/Mes2\n",
        "\n",
        "#Calculo salario inicial \n",
        "Mes1 = Mes2/r\n",
        "\n",
        "#Formula general\n",
        "def S(x):\n",
        "    Mes1*r**(x-1)\n",
        "\n",
        "\n",
        "Mes10 = Mes1*r**(9)\n",
        "\n",
        "print(f'En el decimo mes tendra un sueldo de ${Mes10:.0f}')\n",
        "\n",
        "\n",
        "#Pregunta 2 \n",
        "ingreso_total_tercer_año = 0\n",
        "print(\"\\n--- Salarios del tercer año (meses 25 a 36) ---\")\n",
        "\n",
        "# El rango debe ser de 25 a 37 para incluir el mes 36\n",
        "for i in range(25, 37):\n",
        "    # Calculamos el sueldo para cada mes específico\n",
        "    sueldo_del_mes = Mes1 * (r ** (i - 1))\n",
        "    ingreso_total_tercer_año += sueldo_del_mes\n",
        "    print(f\"Durante el mes {i}, recibió como sueldo ${sueldo_del_mes:,.2f}\")\n",
        "\n",
        "print(\"\\n---------------------------------------------------------\")\n",
        "# Se usa : ,.0f para formatear el número con separadores de miles y sin decimales\n",
        "print(f\"El ingreso total recibido durante el tercer año es de: ${ingreso_total_tercer_año:,.0f}\")\n",
        "#Ingreso total recibido durante el tercer año\n",
        "\n",
        "\n",
        "\n"
      ]
    },
    {
      "cell_type": "markdown",
      "metadata": {
        "id": "-lx5k4b9Y8sD"
      },
      "source": [
        "# Problema 13"
      ]
    },
    {
      "cell_type": "markdown",
      "metadata": {
        "id": "OVuWQuXsY_pp"
      },
      "source": [
        "Una empresa de ciberseguridad capacita trabajadores cada trimestre. En el primer trimestre capacitaron a $30$ trabajadores, en el segundo trimestre a $60$ trabajadores, y en el tercer trimestre a $120$ trabajadores. Si en los siguientes trimestres la empresa mantiene el mismo patrón de crecimiento, determine utilizando *Python*:\n",
        "\n",
        "1. ¿A cuántos trabajadores capacitarán en el octavo trimestre?\n",
        "2. Si la empresa lleva en el mercado $3$ años, ¿a cuántos trabajadores han capacitado en total?"
      ]
    },
    {
      "cell_type": "code",
      "execution_count": 18,
      "metadata": {},
      "outputs": [
        {
          "name": "stdout",
          "output_type": "stream",
          "text": [
            "Para el 8° trimeste se espera que se capaciten 3840 trabajadores\n",
            "A lo largo de 3 años se espera que se capaciten un total de 3932130 trabajadores\n"
          ]
        }
      ],
      "source": [
        "# --- Problema 13 ---\n",
        "\n",
        "#Datos: \n",
        "#Sabemos que es una PG -> a1 = 30         -> r=2       -> P(n) = 30*2**(n-1)      -> Sp(n) = a1 * ( (r**n-1) / (r - 1) )\n",
        "\n",
        "a1=30\n",
        "r=2 \n",
        "\n",
        "#Pregunta 1\n",
        "def P(n):\n",
        "    return 30*2**(n-1)   \n",
        "\n",
        "print(f'Para el {8}° trimeste se espera que se capaciten {P(8)} trabajadores')\n",
        "\n",
        "#Pregunta 2\n",
        "def Sp(a1, numerador, denominador):\n",
        "    numerador = (r**n) -1\n",
        "    denominador = (r - 1)\n",
        "    return a1* numerador/denominador\n",
        "  \n",
        "print(f'A lo largo de 3 años se espera que se capaciten un total de {int(Sp(a1, (r**36)-1, (36-1)))} trabajadores')\n",
        "\n"
      ]
    },
    {
      "cell_type": "markdown",
      "metadata": {
        "id": "IM7Xf51G6AXs"
      },
      "source": [
        "# Problema 14"
      ]
    },
    {
      "cell_type": "markdown",
      "metadata": {
        "id": "Ni_4WMQl6OeV"
      },
      "source": [
        "Al llenar un tambor con agua, se registra que durante el minuto $4$ el tambor recibe $128$ litros, y durante el minuto $9$ recibe $88$ litros. Sabiendo que en cada minuto recibe una cantidad $d$ de litros de agua menos que en el minuto anterior, determine:\n",
        "\n",
        "1. ¿En qué instante el tambor deja de recibir agua?\n",
        "2. ¿Cuántos litros recibe en total el tambor?\n",
        "\n",
        "Realice los cálculos anteriores utilizando *Python*."
      ]
    },
    {
      "cell_type": "code",
      "execution_count": null,
      "metadata": {},
      "outputs": [
        {
          "name": "stdout",
          "output_type": "stream",
          "text": [
            "La distancia es -8 litros\n",
            "\n",
            "En el minuto 1 el tambor registra 143 Litros\n",
            "El tambor se vacia en el termino 19\n",
            "El total de la suma es 255.0 litros\n"
          ]
        }
      ],
      "source": [
        "#Problema 14\n",
        "\n",
        "#Datos:\n",
        "\n",
        "# Es una PA\n",
        "# m(4) = 128\n",
        "# m(9) = 88\n",
        "\n",
        "\n",
        "\n",
        "# determinar d\n",
        "# 128 + 5d = 88\n",
        "d= (88-128)/5 \n",
        "print(f'La distancia es {int(d)} litros')\n",
        "\n",
        "\n",
        "#calcular m(1)\n",
        "m1 = 128 - 3*(-5)\n",
        "\n",
        "print(f'\\nEn el minuto 1 el tambor registra {m1} Litros')\n",
        "\n",
        "# --- Pregunta 1 ---      \n",
        "\n",
        "#Momento en que el tambor se vacia\n",
        "\n",
        "# M(n) = m1+(n-1)*(-8)\n",
        "# 0 = 143+(n-1)*(-8)\n",
        "# -143 = (n-1)*(-8)\n",
        "n = (-143/-8) + 1\n",
        "\n",
        "print(f'El tambor se vacia en el termino {(int(n+1))}')\n",
        "\n",
        "# --- Pregunta 2 ---\n",
        "n = int(n-1)\n",
        "total_agua = 0\n",
        "for i in range(n):\n",
        "    i+=1\n",
        "    total_agua+=m1+(n-1)*d\n",
        "\n",
        "\n",
        "print(f\"El total de la suma es {total_agua} litros\")"
      ]
    }
  ],
  "metadata": {
    "colab": {
      "provenance": []
    },
    "kernelspec": {
      "display_name": "Python 3",
      "name": "python3"
    },
    "language_info": {
      "codemirror_mode": {
        "name": "ipython",
        "version": 3
      },
      "file_extension": ".py",
      "mimetype": "text/x-python",
      "name": "python",
      "nbconvert_exporter": "python",
      "pygments_lexer": "ipython3",
      "version": "3.13.8"
    }
  },
  "nbformat": 4,
  "nbformat_minor": 0
}
