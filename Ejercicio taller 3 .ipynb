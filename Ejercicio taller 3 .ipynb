{
 "cells": [
  {
   "cell_type": "code",
   "execution_count": null,
   "id": "2a54d599",
   "metadata": {},
   "outputs": [],
   "source": [
    "\"\"\"\n",
    "Ejercicio de práctica para taller 3\n",
    "\n",
    "En lo profundo del Valle de Zanar, oculto entre montañas cubiertas de niebla, crece una flor\n",
    "legendaria conocida como la Flor Kuarahy. Esta flor, admirada por los sabios del valle, posee\n",
    "una estructura fascinante: cada día, despliega una nueva cantidad de pétalos siguiendo un\n",
    "patrón matemático preciso. Se dice que sus pétalos brillan con la luz del amanecer y tienen\n",
    "propiedades que influyen en los sueños.\n",
    "Los sabios del valle han estudiado durante generaciones el comportamiento de esta flor y han\n",
    "registrado que la Flor Kuarahy desarrolla entre 7 y 997 pétalos por día. Te invitamos a\n",
    "explorar el misterio matemático detrás de esta flor extraordinaria.\n",
    "La Flor Kuarahy sigue una secuencia aritmética en la cantidad de pétalos que despliega cada\n",
    "día. Después de muchos años, los sabios descubrieron que la fórmula que rige esta secuencia\n",
    "es: Kn = 4n + 3, donde n representa el número de días desde el inicio de su floración.\n",
    "\n",
    "1. ¿Cuántos pétalos produce la Flor Kuarahy en el día 12?\n",
    "\n",
    "2. ¿Cuántos días deben pasar para que la flor produzca su máximo número de pétalos,\n",
    "considerando el límite observado de 997 pétalos?\n",
    "\n",
    "3. Un aprendiz curioso pregunta si existe un día en el que la Flor Kuarahy produce\n",
    "exactamente 835 pétalos. ¿Cómo puedes comprobarlo? ¿Es posible? Explica tu\n",
    "razonamiento.\n",
    "\n",
    "\n",
    "\"\"\"\n",
    "\n"
   ]
  },
  {
   "cell_type": "code",
   "execution_count": null,
   "id": "fa8e2349",
   "metadata": {},
   "outputs": [],
   "source": [
    "\"\"\"\n",
    "Datos es una PA  Kn = 4n + 3\n",
    "\n",
    "\n",
    "\"\"\"\n",
    "\n",
    "def K(n):\n",
    "    return 4*n+3\n",
    "\n",
    "print(\"Pregunta 1\")\n",
    "print(f\"En el dia 12 habra {K(12)}\")\n",
    "\n",
    "\n",
    "print(\"Pregunta 2\")\n",
    "print(f\"\")"
   ]
  },
  {
   "cell_type": "code",
   "execution_count": null,
   "id": "e5a09fe2",
   "metadata": {},
   "outputs": [
    {
     "name": "stdout",
     "output_type": "stream",
     "text": [
      "Pregunta 1\n",
      "El dia 12 la flor tendra 51\n"
     ]
    }
   ],
   "source": [
    "sucesion=[]\n",
    "for i in range(12):\n",
    "    n= i +1\n",
    "    sucesion.append(4*n+3)\n",
    "\n",
    "\n",
    "print(\"Pregunta 1\")\n",
    "print(f\"El dia {n} la flor tendra {sucesion[i]}\")\n",
    "\n",
    "\n",
    "print(\"Pregunta 2\")\n",
    "while  True:\n",
    "    n= i +1\n",
    "    sucesion.append(4*n+3)\n",
    "\n"
   ]
  },
  {
   "cell_type": "code",
   "execution_count": null,
   "id": "ffe7d2cf",
   "metadata": {},
   "outputs": [],
   "source": []
  },
  {
   "cell_type": "code",
   "execution_count": null,
   "id": "14af2198",
   "metadata": {},
   "outputs": [],
   "source": []
  },
  {
   "cell_type": "code",
   "execution_count": null,
   "id": "3a01ac0f",
   "metadata": {},
   "outputs": [],
   "source": [
    "\n",
    "'''4. En una zona cercana del valle, florece una segunda flor llamada Flor Arasai, cuyo\n",
    "comportamiento inicial es distinto: durante los primeros 6 días, el número de pétalos se\n",
    "triplica con respecto al día anterior. Si el primer día produce 2 pétalos,\n",
    "\n",
    "a) Escribe la fórmula An que represente el número de pétalos producidos el día n.\n",
    "\n",
    "b) Muestra cuántos pétalos produce esta flor durante los primeros 6 días.\n",
    "\n",
    "\n",
    "5. A partir del séptimo día, la Flor Arasai comienza a desarrollar pétalos más lentamente,\n",
    "siguiendo esta fórmula: Bn=10 + 2(n−6) para n > 6.\n",
    "Calcula cuántos pétalos habrá producido en total la Flor Arasai al concluir el día 30,\n",
    "sumando los días de crecimiento rápido y lento.\n",
    "'''"
   ]
  },
  {
   "cell_type": "code",
   "execution_count": null,
   "id": "cde54dd0",
   "metadata": {},
   "outputs": [
    {
     "name": "stdout",
     "output_type": "stream",
     "text": [
      "El dia 6 la flor tendra 486\n"
     ]
    },
    {
     "ename": "TypeError",
     "evalue": "'int' object is not callable",
     "output_type": "error",
     "traceback": [
      "\u001b[31m---------------------------------------------------------------------------\u001b[39m",
      "\u001b[31mTypeError\u001b[39m                                 Traceback (most recent call last)",
      "\u001b[36mCell\u001b[39m\u001b[36m \u001b[39m\u001b[32mIn[14]\u001b[39m\u001b[32m, line 22\u001b[39m\n\u001b[32m     20\u001b[39m \u001b[38;5;28;01mfor\u001b[39;00m i \u001b[38;5;129;01min\u001b[39;00m \u001b[38;5;28mrange\u001b[39m(\u001b[32m13\u001b[39m,\u001b[32m30\u001b[39m):\n\u001b[32m     21\u001b[39m     n= i +\u001b[32m1\u001b[39m\n\u001b[32m---> \u001b[39m\u001b[32m22\u001b[39m     sucesion3.append(\u001b[32m10\u001b[39m+\u001b[32;43m2\u001b[39;49m\u001b[43m(\u001b[49m\u001b[43mn\u001b[49m\u001b[43m-\u001b[49m\u001b[32;43m6\u001b[39;49m\u001b[43m)\u001b[49m)\n\u001b[32m     24\u001b[39m \u001b[38;5;28mprint\u001b[39m(\u001b[33mf\u001b[39m\u001b[33m\"\u001b[39m\u001b[33mEl dia \u001b[39m\u001b[38;5;132;01m{\u001b[39;00mn\u001b[38;5;132;01m}\u001b[39;00m\u001b[33m la flor tendra \u001b[39m\u001b[38;5;132;01m{\u001b[39;00msucesion2[i]\u001b[38;5;132;01m}\u001b[39;00m\u001b[33m\"\u001b[39m)\n",
      "\u001b[31mTypeError\u001b[39m: 'int' object is not callable"
     ]
    }
   ],
   "source": [
    "#4a\n",
    "def A(n):\n",
    "    if 1<=n<=6:\n",
    "        return 2*3**(n-1)\n",
    "    else:\n",
    "        return 10+2(n-6)\n",
    "    \n",
    "#4b\n",
    "sucesion2=[]\n",
    "for i in range(6):\n",
    "    n= i +1\n",
    "    sucesion2.append(A(n))\n",
    "\n",
    "print(f\"El dia {n} la flor tendra {sucesion2[i]}\")\n",
    "\n",
    "\n",
    "\n",
    "#5\n",
    "# sucesion3=[]\n",
    "# for i in range(13,30):\n",
    "#     n= i +1\n",
    "#     sucesion3.append(10+2(n-6))\n",
    "\n",
    "# print(f\"El dia {n} la flor tendra {sucesion2[i]}\")\n",
    "\n",
    "#5 ahora si con un for y un if dentro\n",
    "terminos=[]\n",
    "for i in range(30):\n",
    "    n=i+1\n",
    "    if i<6:\n",
    "        \n",
    "        print(f'El dia {n} hay {2 * 3 **(n-1)} petalos')\n",
    "\n",
    "\n",
    "\n",
    "    else: \n",
    "\n"
   ]
  },
  {
   "cell_type": "code",
   "execution_count": null,
   "id": "4a1fdcd1",
   "metadata": {},
   "outputs": [],
   "source": []
  }
 ],
 "metadata": {
  "kernelspec": {
   "display_name": "Python 3",
   "language": "python",
   "name": "python3"
  },
  "language_info": {
   "codemirror_mode": {
    "name": "ipython",
    "version": 3
   },
   "file_extension": ".py",
   "mimetype": "text/x-python",
   "name": "python",
   "nbconvert_exporter": "python",
   "pygments_lexer": "ipython3",
   "version": "3.13.5"
  }
 },
 "nbformat": 4,
 "nbformat_minor": 5
}
