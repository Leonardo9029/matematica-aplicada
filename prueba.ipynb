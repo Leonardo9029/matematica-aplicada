{
 "cells": [
  {
   "cell_type": "code",
   "execution_count": null,
   "id": "34ef7cf0",
   "metadata": {},
   "outputs": [
    {
     "name": "stdout",
     "output_type": "stream",
     "text": [
      "Esto es una prueba para el push\n"
     ]
    }
   ],
   "source": [
    "print(\"Esto es una prueba para el push\")\n",
    "\n",
    "\n",
    "print(\"Otra linea de prueba\")\n",
    "# -*- coding: utf-8 -*-\n"
   ]
  }
 ],
 "metadata": {
  "kernelspec": {
   "display_name": "Python 3",
   "language": "python",
   "name": "python3"
  },
  "language_info": {
   "codemirror_mode": {
    "name": "ipython",
    "version": 3
   },
   "file_extension": ".py",
   "mimetype": "text/x-python",
   "name": "python",
   "nbconvert_exporter": "python",
   "pygments_lexer": "ipython3",
   "version": "3.13.5"
  }
 },
 "nbformat": 4,
 "nbformat_minor": 5
}
