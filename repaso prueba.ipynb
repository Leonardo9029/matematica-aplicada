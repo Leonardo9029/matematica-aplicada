{
 "cells": [
  {
   "cell_type": "code",
   "execution_count": null,
   "id": "ff4ab760",
   "metadata": {},
   "outputs": [],
   "source": [
    "\n",
    "# --- Pregunta 5 ---\n",
    "\n",
    "\n",
    "# Te contrataron para realizar una optimización de una plataforma de streaming. \n",
    "# Las funciones de ingresos por suscriptores I(x) y costos de operación C(x) (ambos en miles de pesos) son:\n",
    "\n",
    "\n",
    "def I(x): \n",
    "    return 10*x**2 + 50*x\n",
    "def C(x): \n",
    "    return 5*x**2 + 80*x + 100\n",
    "\n",
    "# donde x corresponde al número de suscriptores (en miles). Si los costos de operación son $385.000\n",
    "# ¿cuál es la cantidad de suscriptores?\n",
    "# ¿cuál es el ingreso correspondiente?\n",
    "\n",
    "# ---- Pregunta 6 ----\n",
    "\n",
    "# Constanza es agente inmobiliario, el sueldo en su actual trabajo depende de la cantidad de casas vendidas, le pagan $600.000 de sueldo base, más una comisión\n",
    "# del 5% por cada casa vendida. Lo anterior puede modelarse mediante la función Sactual(x) (en miles de pesos), definida como:\n",
    "def Sactual(x):\n",
    "    return 600 * 1.05**x\n",
    "# , donde x corresponde a la cantidad de casas vendidas durante el mes.\n",
    "# a) Si se han vendido 4 casas, ¿cuál es el sueldo actual?\n",
    "# b) Si el sueldo actual es de $930.797 aprox.,  ¿cuál es la cantidad de casas vendidas?\n",
    "\n"
   ]
  }
 ],
 "metadata": {
  "language_info": {
   "name": "python"
  }
 },
 "nbformat": 4,
 "nbformat_minor": 5
}
